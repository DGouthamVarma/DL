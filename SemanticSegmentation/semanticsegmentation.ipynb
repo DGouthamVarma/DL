{
 "cells": [
  {
   "cell_type": "code",
   "execution_count": 1,
   "metadata": {},
   "outputs": [],
   "source": [
    "import torch\n",
    "from torchvision import models\n",
    "from torchvision import transforms\n",
    "from PIL import Image"
   ]
  },
  {
   "cell_type": "code",
   "execution_count": 2,
   "metadata": {},
   "outputs": [],
   "source": [
    "categories = ['__background__', 'aeroplane', 'bicycle', 'bird', 'boat', 'bottle', 'bus',\n",
    " 'car', 'cat', 'chair', 'cow', 'diningtable', 'dog', 'horse', 'motorbike',\n",
    " 'person', 'pottedplant', 'sheep', 'sofa', 'train', 'tvmonitor']"
   ]
  },
  {
   "cell_type": "code",
   "execution_count": 3,
   "metadata": {},
   "outputs": [],
   "source": [
    "image = Image.open('image.jpg')"
   ]
  },
  {
   "cell_type": "code",
   "execution_count": 4,
   "metadata": {},
   "outputs": [],
   "source": [
    "image.show()"
   ]
  },
  {
   "cell_type": "code",
   "execution_count": 6,
   "metadata": {},
   "outputs": [
    {
     "name": "stderr",
     "output_type": "stream",
     "text": [
      "Downloading: \"https://download.pytorch.org/models/resnet101-5d3b4d8f.pth\" to /home/gouthamv/.cache/torch/checkpoints/resnet101-5d3b4d8f.pth\n",
      "100%|██████████| 178728960/178728960 [00:08<00:00, 20990855.59it/s]\n",
      "Downloading: \"https://download.pytorch.org/models/deeplabv3_resnet101_coco-586e9e4e.pth\" to /home/gouthamv/.cache/torch/checkpoints/deeplabv3_resnet101_coco-586e9e4e.pth\n",
      "100%|██████████| 244545539/244545539 [00:37<00:00, 6454965.27it/s]\n"
     ]
    }
   ],
   "source": [
    "model = models.segmentation.deeplabv3_resnet101(pretrained = True)"
   ]
  },
  {
   "cell_type": "code",
   "execution_count": 7,
   "metadata": {},
   "outputs": [
    {
     "data": {
      "text/plain": [
       "DeepLabV3(\n",
       "  (backbone): IntermediateLayerGetter(\n",
       "    (conv1): Conv2d(3, 64, kernel_size=(7, 7), stride=(2, 2), padding=(3, 3), bias=False)\n",
       "    (bn1): BatchNorm2d(64, eps=1e-05, momentum=0.1, affine=True, track_running_stats=True)\n",
       "    (relu): ReLU(inplace)\n",
       "    (maxpool): MaxPool2d(kernel_size=3, stride=2, padding=1, dilation=1, ceil_mode=False)\n",
       "    (layer1): Sequential(\n",
       "      (0): Bottleneck(\n",
       "        (conv1): Conv2d(64, 64, kernel_size=(1, 1), stride=(1, 1), bias=False)\n",
       "        (bn1): BatchNorm2d(64, eps=1e-05, momentum=0.1, affine=True, track_running_stats=True)\n",
       "        (conv2): Conv2d(64, 64, kernel_size=(3, 3), stride=(1, 1), padding=(1, 1), bias=False)\n",
       "        (bn2): BatchNorm2d(64, eps=1e-05, momentum=0.1, affine=True, track_running_stats=True)\n",
       "        (conv3): Conv2d(64, 256, kernel_size=(1, 1), stride=(1, 1), bias=False)\n",
       "        (bn3): BatchNorm2d(256, eps=1e-05, momentum=0.1, affine=True, track_running_stats=True)\n",
       "        (relu): ReLU(inplace)\n",
       "        (downsample): Sequential(\n",
       "          (0): Conv2d(64, 256, kernel_size=(1, 1), stride=(1, 1), bias=False)\n",
       "          (1): BatchNorm2d(256, eps=1e-05, momentum=0.1, affine=True, track_running_stats=True)\n",
       "        )\n",
       "      )\n",
       "      (1): Bottleneck(\n",
       "        (conv1): Conv2d(256, 64, kernel_size=(1, 1), stride=(1, 1), bias=False)\n",
       "        (bn1): BatchNorm2d(64, eps=1e-05, momentum=0.1, affine=True, track_running_stats=True)\n",
       "        (conv2): Conv2d(64, 64, kernel_size=(3, 3), stride=(1, 1), padding=(1, 1), bias=False)\n",
       "        (bn2): BatchNorm2d(64, eps=1e-05, momentum=0.1, affine=True, track_running_stats=True)\n",
       "        (conv3): Conv2d(64, 256, kernel_size=(1, 1), stride=(1, 1), bias=False)\n",
       "        (bn3): BatchNorm2d(256, eps=1e-05, momentum=0.1, affine=True, track_running_stats=True)\n",
       "        (relu): ReLU(inplace)\n",
       "      )\n",
       "      (2): Bottleneck(\n",
       "        (conv1): Conv2d(256, 64, kernel_size=(1, 1), stride=(1, 1), bias=False)\n",
       "        (bn1): BatchNorm2d(64, eps=1e-05, momentum=0.1, affine=True, track_running_stats=True)\n",
       "        (conv2): Conv2d(64, 64, kernel_size=(3, 3), stride=(1, 1), padding=(1, 1), bias=False)\n",
       "        (bn2): BatchNorm2d(64, eps=1e-05, momentum=0.1, affine=True, track_running_stats=True)\n",
       "        (conv3): Conv2d(64, 256, kernel_size=(1, 1), stride=(1, 1), bias=False)\n",
       "        (bn3): BatchNorm2d(256, eps=1e-05, momentum=0.1, affine=True, track_running_stats=True)\n",
       "        (relu): ReLU(inplace)\n",
       "      )\n",
       "    )\n",
       "    (layer2): Sequential(\n",
       "      (0): Bottleneck(\n",
       "        (conv1): Conv2d(256, 128, kernel_size=(1, 1), stride=(1, 1), bias=False)\n",
       "        (bn1): BatchNorm2d(128, eps=1e-05, momentum=0.1, affine=True, track_running_stats=True)\n",
       "        (conv2): Conv2d(128, 128, kernel_size=(3, 3), stride=(2, 2), padding=(1, 1), bias=False)\n",
       "        (bn2): BatchNorm2d(128, eps=1e-05, momentum=0.1, affine=True, track_running_stats=True)\n",
       "        (conv3): Conv2d(128, 512, kernel_size=(1, 1), stride=(1, 1), bias=False)\n",
       "        (bn3): BatchNorm2d(512, eps=1e-05, momentum=0.1, affine=True, track_running_stats=True)\n",
       "        (relu): ReLU(inplace)\n",
       "        (downsample): Sequential(\n",
       "          (0): Conv2d(256, 512, kernel_size=(1, 1), stride=(2, 2), bias=False)\n",
       "          (1): BatchNorm2d(512, eps=1e-05, momentum=0.1, affine=True, track_running_stats=True)\n",
       "        )\n",
       "      )\n",
       "      (1): Bottleneck(\n",
       "        (conv1): Conv2d(512, 128, kernel_size=(1, 1), stride=(1, 1), bias=False)\n",
       "        (bn1): BatchNorm2d(128, eps=1e-05, momentum=0.1, affine=True, track_running_stats=True)\n",
       "        (conv2): Conv2d(128, 128, kernel_size=(3, 3), stride=(1, 1), padding=(1, 1), bias=False)\n",
       "        (bn2): BatchNorm2d(128, eps=1e-05, momentum=0.1, affine=True, track_running_stats=True)\n",
       "        (conv3): Conv2d(128, 512, kernel_size=(1, 1), stride=(1, 1), bias=False)\n",
       "        (bn3): BatchNorm2d(512, eps=1e-05, momentum=0.1, affine=True, track_running_stats=True)\n",
       "        (relu): ReLU(inplace)\n",
       "      )\n",
       "      (2): Bottleneck(\n",
       "        (conv1): Conv2d(512, 128, kernel_size=(1, 1), stride=(1, 1), bias=False)\n",
       "        (bn1): BatchNorm2d(128, eps=1e-05, momentum=0.1, affine=True, track_running_stats=True)\n",
       "        (conv2): Conv2d(128, 128, kernel_size=(3, 3), stride=(1, 1), padding=(1, 1), bias=False)\n",
       "        (bn2): BatchNorm2d(128, eps=1e-05, momentum=0.1, affine=True, track_running_stats=True)\n",
       "        (conv3): Conv2d(128, 512, kernel_size=(1, 1), stride=(1, 1), bias=False)\n",
       "        (bn3): BatchNorm2d(512, eps=1e-05, momentum=0.1, affine=True, track_running_stats=True)\n",
       "        (relu): ReLU(inplace)\n",
       "      )\n",
       "      (3): Bottleneck(\n",
       "        (conv1): Conv2d(512, 128, kernel_size=(1, 1), stride=(1, 1), bias=False)\n",
       "        (bn1): BatchNorm2d(128, eps=1e-05, momentum=0.1, affine=True, track_running_stats=True)\n",
       "        (conv2): Conv2d(128, 128, kernel_size=(3, 3), stride=(1, 1), padding=(1, 1), bias=False)\n",
       "        (bn2): BatchNorm2d(128, eps=1e-05, momentum=0.1, affine=True, track_running_stats=True)\n",
       "        (conv3): Conv2d(128, 512, kernel_size=(1, 1), stride=(1, 1), bias=False)\n",
       "        (bn3): BatchNorm2d(512, eps=1e-05, momentum=0.1, affine=True, track_running_stats=True)\n",
       "        (relu): ReLU(inplace)\n",
       "      )\n",
       "    )\n",
       "    (layer3): Sequential(\n",
       "      (0): Bottleneck(\n",
       "        (conv1): Conv2d(512, 256, kernel_size=(1, 1), stride=(1, 1), bias=False)\n",
       "        (bn1): BatchNorm2d(256, eps=1e-05, momentum=0.1, affine=True, track_running_stats=True)\n",
       "        (conv2): Conv2d(256, 256, kernel_size=(3, 3), stride=(1, 1), padding=(1, 1), bias=False)\n",
       "        (bn2): BatchNorm2d(256, eps=1e-05, momentum=0.1, affine=True, track_running_stats=True)\n",
       "        (conv3): Conv2d(256, 1024, kernel_size=(1, 1), stride=(1, 1), bias=False)\n",
       "        (bn3): BatchNorm2d(1024, eps=1e-05, momentum=0.1, affine=True, track_running_stats=True)\n",
       "        (relu): ReLU(inplace)\n",
       "        (downsample): Sequential(\n",
       "          (0): Conv2d(512, 1024, kernel_size=(1, 1), stride=(1, 1), bias=False)\n",
       "          (1): BatchNorm2d(1024, eps=1e-05, momentum=0.1, affine=True, track_running_stats=True)\n",
       "        )\n",
       "      )\n",
       "      (1): Bottleneck(\n",
       "        (conv1): Conv2d(1024, 256, kernel_size=(1, 1), stride=(1, 1), bias=False)\n",
       "        (bn1): BatchNorm2d(256, eps=1e-05, momentum=0.1, affine=True, track_running_stats=True)\n",
       "        (conv2): Conv2d(256, 256, kernel_size=(3, 3), stride=(1, 1), padding=(2, 2), dilation=(2, 2), bias=False)\n",
       "        (bn2): BatchNorm2d(256, eps=1e-05, momentum=0.1, affine=True, track_running_stats=True)\n",
       "        (conv3): Conv2d(256, 1024, kernel_size=(1, 1), stride=(1, 1), bias=False)\n",
       "        (bn3): BatchNorm2d(1024, eps=1e-05, momentum=0.1, affine=True, track_running_stats=True)\n",
       "        (relu): ReLU(inplace)\n",
       "      )\n",
       "      (2): Bottleneck(\n",
       "        (conv1): Conv2d(1024, 256, kernel_size=(1, 1), stride=(1, 1), bias=False)\n",
       "        (bn1): BatchNorm2d(256, eps=1e-05, momentum=0.1, affine=True, track_running_stats=True)\n",
       "        (conv2): Conv2d(256, 256, kernel_size=(3, 3), stride=(1, 1), padding=(2, 2), dilation=(2, 2), bias=False)\n",
       "        (bn2): BatchNorm2d(256, eps=1e-05, momentum=0.1, affine=True, track_running_stats=True)\n",
       "        (conv3): Conv2d(256, 1024, kernel_size=(1, 1), stride=(1, 1), bias=False)\n",
       "        (bn3): BatchNorm2d(1024, eps=1e-05, momentum=0.1, affine=True, track_running_stats=True)\n",
       "        (relu): ReLU(inplace)\n",
       "      )\n",
       "      (3): Bottleneck(\n",
       "        (conv1): Conv2d(1024, 256, kernel_size=(1, 1), stride=(1, 1), bias=False)\n",
       "        (bn1): BatchNorm2d(256, eps=1e-05, momentum=0.1, affine=True, track_running_stats=True)\n",
       "        (conv2): Conv2d(256, 256, kernel_size=(3, 3), stride=(1, 1), padding=(2, 2), dilation=(2, 2), bias=False)\n",
       "        (bn2): BatchNorm2d(256, eps=1e-05, momentum=0.1, affine=True, track_running_stats=True)\n",
       "        (conv3): Conv2d(256, 1024, kernel_size=(1, 1), stride=(1, 1), bias=False)\n",
       "        (bn3): BatchNorm2d(1024, eps=1e-05, momentum=0.1, affine=True, track_running_stats=True)\n",
       "        (relu): ReLU(inplace)\n",
       "      )\n",
       "      (4): Bottleneck(\n",
       "        (conv1): Conv2d(1024, 256, kernel_size=(1, 1), stride=(1, 1), bias=False)\n",
       "        (bn1): BatchNorm2d(256, eps=1e-05, momentum=0.1, affine=True, track_running_stats=True)\n",
       "        (conv2): Conv2d(256, 256, kernel_size=(3, 3), stride=(1, 1), padding=(2, 2), dilation=(2, 2), bias=False)\n",
       "        (bn2): BatchNorm2d(256, eps=1e-05, momentum=0.1, affine=True, track_running_stats=True)\n",
       "        (conv3): Conv2d(256, 1024, kernel_size=(1, 1), stride=(1, 1), bias=False)\n",
       "        (bn3): BatchNorm2d(1024, eps=1e-05, momentum=0.1, affine=True, track_running_stats=True)\n",
       "        (relu): ReLU(inplace)\n",
       "      )\n",
       "      (5): Bottleneck(\n",
       "        (conv1): Conv2d(1024, 256, kernel_size=(1, 1), stride=(1, 1), bias=False)\n",
       "        (bn1): BatchNorm2d(256, eps=1e-05, momentum=0.1, affine=True, track_running_stats=True)\n",
       "        (conv2): Conv2d(256, 256, kernel_size=(3, 3), stride=(1, 1), padding=(2, 2), dilation=(2, 2), bias=False)\n",
       "        (bn2): BatchNorm2d(256, eps=1e-05, momentum=0.1, affine=True, track_running_stats=True)\n",
       "        (conv3): Conv2d(256, 1024, kernel_size=(1, 1), stride=(1, 1), bias=False)\n",
       "        (bn3): BatchNorm2d(1024, eps=1e-05, momentum=0.1, affine=True, track_running_stats=True)\n",
       "        (relu): ReLU(inplace)\n",
       "      )\n",
       "      (6): Bottleneck(\n",
       "        (conv1): Conv2d(1024, 256, kernel_size=(1, 1), stride=(1, 1), bias=False)\n",
       "        (bn1): BatchNorm2d(256, eps=1e-05, momentum=0.1, affine=True, track_running_stats=True)\n",
       "        (conv2): Conv2d(256, 256, kernel_size=(3, 3), stride=(1, 1), padding=(2, 2), dilation=(2, 2), bias=False)\n",
       "        (bn2): BatchNorm2d(256, eps=1e-05, momentum=0.1, affine=True, track_running_stats=True)\n",
       "        (conv3): Conv2d(256, 1024, kernel_size=(1, 1), stride=(1, 1), bias=False)\n",
       "        (bn3): BatchNorm2d(1024, eps=1e-05, momentum=0.1, affine=True, track_running_stats=True)\n",
       "        (relu): ReLU(inplace)\n",
       "      )\n",
       "      (7): Bottleneck(\n",
       "        (conv1): Conv2d(1024, 256, kernel_size=(1, 1), stride=(1, 1), bias=False)\n",
       "        (bn1): BatchNorm2d(256, eps=1e-05, momentum=0.1, affine=True, track_running_stats=True)\n",
       "        (conv2): Conv2d(256, 256, kernel_size=(3, 3), stride=(1, 1), padding=(2, 2), dilation=(2, 2), bias=False)\n",
       "        (bn2): BatchNorm2d(256, eps=1e-05, momentum=0.1, affine=True, track_running_stats=True)\n",
       "        (conv3): Conv2d(256, 1024, kernel_size=(1, 1), stride=(1, 1), bias=False)\n",
       "        (bn3): BatchNorm2d(1024, eps=1e-05, momentum=0.1, affine=True, track_running_stats=True)\n",
       "        (relu): ReLU(inplace)\n",
       "      )\n",
       "      (8): Bottleneck(\n",
       "        (conv1): Conv2d(1024, 256, kernel_size=(1, 1), stride=(1, 1), bias=False)\n",
       "        (bn1): BatchNorm2d(256, eps=1e-05, momentum=0.1, affine=True, track_running_stats=True)\n",
       "        (conv2): Conv2d(256, 256, kernel_size=(3, 3), stride=(1, 1), padding=(2, 2), dilation=(2, 2), bias=False)\n",
       "        (bn2): BatchNorm2d(256, eps=1e-05, momentum=0.1, affine=True, track_running_stats=True)\n",
       "        (conv3): Conv2d(256, 1024, kernel_size=(1, 1), stride=(1, 1), bias=False)\n",
       "        (bn3): BatchNorm2d(1024, eps=1e-05, momentum=0.1, affine=True, track_running_stats=True)\n",
       "        (relu): ReLU(inplace)\n",
       "      )\n",
       "      (9): Bottleneck(\n",
       "        (conv1): Conv2d(1024, 256, kernel_size=(1, 1), stride=(1, 1), bias=False)\n",
       "        (bn1): BatchNorm2d(256, eps=1e-05, momentum=0.1, affine=True, track_running_stats=True)\n",
       "        (conv2): Conv2d(256, 256, kernel_size=(3, 3), stride=(1, 1), padding=(2, 2), dilation=(2, 2), bias=False)\n",
       "        (bn2): BatchNorm2d(256, eps=1e-05, momentum=0.1, affine=True, track_running_stats=True)\n",
       "        (conv3): Conv2d(256, 1024, kernel_size=(1, 1), stride=(1, 1), bias=False)\n",
       "        (bn3): BatchNorm2d(1024, eps=1e-05, momentum=0.1, affine=True, track_running_stats=True)\n",
       "        (relu): ReLU(inplace)\n",
       "      )\n",
       "      (10): Bottleneck(\n",
       "        (conv1): Conv2d(1024, 256, kernel_size=(1, 1), stride=(1, 1), bias=False)\n",
       "        (bn1): BatchNorm2d(256, eps=1e-05, momentum=0.1, affine=True, track_running_stats=True)\n",
       "        (conv2): Conv2d(256, 256, kernel_size=(3, 3), stride=(1, 1), padding=(2, 2), dilation=(2, 2), bias=False)\n",
       "        (bn2): BatchNorm2d(256, eps=1e-05, momentum=0.1, affine=True, track_running_stats=True)\n",
       "        (conv3): Conv2d(256, 1024, kernel_size=(1, 1), stride=(1, 1), bias=False)\n",
       "        (bn3): BatchNorm2d(1024, eps=1e-05, momentum=0.1, affine=True, track_running_stats=True)\n",
       "        (relu): ReLU(inplace)\n",
       "      )\n",
       "      (11): Bottleneck(\n",
       "        (conv1): Conv2d(1024, 256, kernel_size=(1, 1), stride=(1, 1), bias=False)\n",
       "        (bn1): BatchNorm2d(256, eps=1e-05, momentum=0.1, affine=True, track_running_stats=True)\n",
       "        (conv2): Conv2d(256, 256, kernel_size=(3, 3), stride=(1, 1), padding=(2, 2), dilation=(2, 2), bias=False)\n",
       "        (bn2): BatchNorm2d(256, eps=1e-05, momentum=0.1, affine=True, track_running_stats=True)\n",
       "        (conv3): Conv2d(256, 1024, kernel_size=(1, 1), stride=(1, 1), bias=False)\n",
       "        (bn3): BatchNorm2d(1024, eps=1e-05, momentum=0.1, affine=True, track_running_stats=True)\n",
       "        (relu): ReLU(inplace)\n",
       "      )\n",
       "      (12): Bottleneck(\n",
       "        (conv1): Conv2d(1024, 256, kernel_size=(1, 1), stride=(1, 1), bias=False)\n",
       "        (bn1): BatchNorm2d(256, eps=1e-05, momentum=0.1, affine=True, track_running_stats=True)\n",
       "        (conv2): Conv2d(256, 256, kernel_size=(3, 3), stride=(1, 1), padding=(2, 2), dilation=(2, 2), bias=False)\n",
       "        (bn2): BatchNorm2d(256, eps=1e-05, momentum=0.1, affine=True, track_running_stats=True)\n",
       "        (conv3): Conv2d(256, 1024, kernel_size=(1, 1), stride=(1, 1), bias=False)\n",
       "        (bn3): BatchNorm2d(1024, eps=1e-05, momentum=0.1, affine=True, track_running_stats=True)\n",
       "        (relu): ReLU(inplace)\n",
       "      )\n",
       "      (13): Bottleneck(\n",
       "        (conv1): Conv2d(1024, 256, kernel_size=(1, 1), stride=(1, 1), bias=False)\n",
       "        (bn1): BatchNorm2d(256, eps=1e-05, momentum=0.1, affine=True, track_running_stats=True)\n",
       "        (conv2): Conv2d(256, 256, kernel_size=(3, 3), stride=(1, 1), padding=(2, 2), dilation=(2, 2), bias=False)\n",
       "        (bn2): BatchNorm2d(256, eps=1e-05, momentum=0.1, affine=True, track_running_stats=True)\n",
       "        (conv3): Conv2d(256, 1024, kernel_size=(1, 1), stride=(1, 1), bias=False)\n",
       "        (bn3): BatchNorm2d(1024, eps=1e-05, momentum=0.1, affine=True, track_running_stats=True)\n",
       "        (relu): ReLU(inplace)\n",
       "      )\n",
       "      (14): Bottleneck(\n",
       "        (conv1): Conv2d(1024, 256, kernel_size=(1, 1), stride=(1, 1), bias=False)\n",
       "        (bn1): BatchNorm2d(256, eps=1e-05, momentum=0.1, affine=True, track_running_stats=True)\n",
       "        (conv2): Conv2d(256, 256, kernel_size=(3, 3), stride=(1, 1), padding=(2, 2), dilation=(2, 2), bias=False)\n",
       "        (bn2): BatchNorm2d(256, eps=1e-05, momentum=0.1, affine=True, track_running_stats=True)\n",
       "        (conv3): Conv2d(256, 1024, kernel_size=(1, 1), stride=(1, 1), bias=False)\n",
       "        (bn3): BatchNorm2d(1024, eps=1e-05, momentum=0.1, affine=True, track_running_stats=True)\n",
       "        (relu): ReLU(inplace)\n",
       "      )\n",
       "      (15): Bottleneck(\n",
       "        (conv1): Conv2d(1024, 256, kernel_size=(1, 1), stride=(1, 1), bias=False)\n",
       "        (bn1): BatchNorm2d(256, eps=1e-05, momentum=0.1, affine=True, track_running_stats=True)\n",
       "        (conv2): Conv2d(256, 256, kernel_size=(3, 3), stride=(1, 1), padding=(2, 2), dilation=(2, 2), bias=False)\n",
       "        (bn2): BatchNorm2d(256, eps=1e-05, momentum=0.1, affine=True, track_running_stats=True)\n",
       "        (conv3): Conv2d(256, 1024, kernel_size=(1, 1), stride=(1, 1), bias=False)\n",
       "        (bn3): BatchNorm2d(1024, eps=1e-05, momentum=0.1, affine=True, track_running_stats=True)\n",
       "        (relu): ReLU(inplace)\n",
       "      )\n",
       "      (16): Bottleneck(\n",
       "        (conv1): Conv2d(1024, 256, kernel_size=(1, 1), stride=(1, 1), bias=False)\n",
       "        (bn1): BatchNorm2d(256, eps=1e-05, momentum=0.1, affine=True, track_running_stats=True)\n",
       "        (conv2): Conv2d(256, 256, kernel_size=(3, 3), stride=(1, 1), padding=(2, 2), dilation=(2, 2), bias=False)\n",
       "        (bn2): BatchNorm2d(256, eps=1e-05, momentum=0.1, affine=True, track_running_stats=True)\n",
       "        (conv3): Conv2d(256, 1024, kernel_size=(1, 1), stride=(1, 1), bias=False)\n",
       "        (bn3): BatchNorm2d(1024, eps=1e-05, momentum=0.1, affine=True, track_running_stats=True)\n",
       "        (relu): ReLU(inplace)\n",
       "      )\n",
       "      (17): Bottleneck(\n",
       "        (conv1): Conv2d(1024, 256, kernel_size=(1, 1), stride=(1, 1), bias=False)\n",
       "        (bn1): BatchNorm2d(256, eps=1e-05, momentum=0.1, affine=True, track_running_stats=True)\n",
       "        (conv2): Conv2d(256, 256, kernel_size=(3, 3), stride=(1, 1), padding=(2, 2), dilation=(2, 2), bias=False)\n",
       "        (bn2): BatchNorm2d(256, eps=1e-05, momentum=0.1, affine=True, track_running_stats=True)\n",
       "        (conv3): Conv2d(256, 1024, kernel_size=(1, 1), stride=(1, 1), bias=False)\n",
       "        (bn3): BatchNorm2d(1024, eps=1e-05, momentum=0.1, affine=True, track_running_stats=True)\n",
       "        (relu): ReLU(inplace)\n",
       "      )\n",
       "      (18): Bottleneck(\n",
       "        (conv1): Conv2d(1024, 256, kernel_size=(1, 1), stride=(1, 1), bias=False)\n",
       "        (bn1): BatchNorm2d(256, eps=1e-05, momentum=0.1, affine=True, track_running_stats=True)\n",
       "        (conv2): Conv2d(256, 256, kernel_size=(3, 3), stride=(1, 1), padding=(2, 2), dilation=(2, 2), bias=False)\n",
       "        (bn2): BatchNorm2d(256, eps=1e-05, momentum=0.1, affine=True, track_running_stats=True)\n",
       "        (conv3): Conv2d(256, 1024, kernel_size=(1, 1), stride=(1, 1), bias=False)\n",
       "        (bn3): BatchNorm2d(1024, eps=1e-05, momentum=0.1, affine=True, track_running_stats=True)\n",
       "        (relu): ReLU(inplace)\n",
       "      )\n",
       "      (19): Bottleneck(\n",
       "        (conv1): Conv2d(1024, 256, kernel_size=(1, 1), stride=(1, 1), bias=False)\n",
       "        (bn1): BatchNorm2d(256, eps=1e-05, momentum=0.1, affine=True, track_running_stats=True)\n",
       "        (conv2): Conv2d(256, 256, kernel_size=(3, 3), stride=(1, 1), padding=(2, 2), dilation=(2, 2), bias=False)\n",
       "        (bn2): BatchNorm2d(256, eps=1e-05, momentum=0.1, affine=True, track_running_stats=True)\n",
       "        (conv3): Conv2d(256, 1024, kernel_size=(1, 1), stride=(1, 1), bias=False)\n",
       "        (bn3): BatchNorm2d(1024, eps=1e-05, momentum=0.1, affine=True, track_running_stats=True)\n",
       "        (relu): ReLU(inplace)\n",
       "      )\n",
       "      (20): Bottleneck(\n",
       "        (conv1): Conv2d(1024, 256, kernel_size=(1, 1), stride=(1, 1), bias=False)\n",
       "        (bn1): BatchNorm2d(256, eps=1e-05, momentum=0.1, affine=True, track_running_stats=True)\n",
       "        (conv2): Conv2d(256, 256, kernel_size=(3, 3), stride=(1, 1), padding=(2, 2), dilation=(2, 2), bias=False)\n",
       "        (bn2): BatchNorm2d(256, eps=1e-05, momentum=0.1, affine=True, track_running_stats=True)\n",
       "        (conv3): Conv2d(256, 1024, kernel_size=(1, 1), stride=(1, 1), bias=False)\n",
       "        (bn3): BatchNorm2d(1024, eps=1e-05, momentum=0.1, affine=True, track_running_stats=True)\n",
       "        (relu): ReLU(inplace)\n",
       "      )\n",
       "      (21): Bottleneck(\n",
       "        (conv1): Conv2d(1024, 256, kernel_size=(1, 1), stride=(1, 1), bias=False)\n",
       "        (bn1): BatchNorm2d(256, eps=1e-05, momentum=0.1, affine=True, track_running_stats=True)\n",
       "        (conv2): Conv2d(256, 256, kernel_size=(3, 3), stride=(1, 1), padding=(2, 2), dilation=(2, 2), bias=False)\n",
       "        (bn2): BatchNorm2d(256, eps=1e-05, momentum=0.1, affine=True, track_running_stats=True)\n",
       "        (conv3): Conv2d(256, 1024, kernel_size=(1, 1), stride=(1, 1), bias=False)\n",
       "        (bn3): BatchNorm2d(1024, eps=1e-05, momentum=0.1, affine=True, track_running_stats=True)\n",
       "        (relu): ReLU(inplace)\n",
       "      )\n",
       "      (22): Bottleneck(\n",
       "        (conv1): Conv2d(1024, 256, kernel_size=(1, 1), stride=(1, 1), bias=False)\n",
       "        (bn1): BatchNorm2d(256, eps=1e-05, momentum=0.1, affine=True, track_running_stats=True)\n",
       "        (conv2): Conv2d(256, 256, kernel_size=(3, 3), stride=(1, 1), padding=(2, 2), dilation=(2, 2), bias=False)\n",
       "        (bn2): BatchNorm2d(256, eps=1e-05, momentum=0.1, affine=True, track_running_stats=True)\n",
       "        (conv3): Conv2d(256, 1024, kernel_size=(1, 1), stride=(1, 1), bias=False)\n",
       "        (bn3): BatchNorm2d(1024, eps=1e-05, momentum=0.1, affine=True, track_running_stats=True)\n",
       "        (relu): ReLU(inplace)\n",
       "      )\n",
       "    )\n",
       "    (layer4): Sequential(\n",
       "      (0): Bottleneck(\n",
       "        (conv1): Conv2d(1024, 512, kernel_size=(1, 1), stride=(1, 1), bias=False)\n",
       "        (bn1): BatchNorm2d(512, eps=1e-05, momentum=0.1, affine=True, track_running_stats=True)\n",
       "        (conv2): Conv2d(512, 512, kernel_size=(3, 3), stride=(1, 1), padding=(2, 2), dilation=(2, 2), bias=False)\n",
       "        (bn2): BatchNorm2d(512, eps=1e-05, momentum=0.1, affine=True, track_running_stats=True)\n",
       "        (conv3): Conv2d(512, 2048, kernel_size=(1, 1), stride=(1, 1), bias=False)\n",
       "        (bn3): BatchNorm2d(2048, eps=1e-05, momentum=0.1, affine=True, track_running_stats=True)\n",
       "        (relu): ReLU(inplace)\n",
       "        (downsample): Sequential(\n",
       "          (0): Conv2d(1024, 2048, kernel_size=(1, 1), stride=(1, 1), bias=False)\n",
       "          (1): BatchNorm2d(2048, eps=1e-05, momentum=0.1, affine=True, track_running_stats=True)\n",
       "        )\n",
       "      )\n",
       "      (1): Bottleneck(\n",
       "        (conv1): Conv2d(2048, 512, kernel_size=(1, 1), stride=(1, 1), bias=False)\n",
       "        (bn1): BatchNorm2d(512, eps=1e-05, momentum=0.1, affine=True, track_running_stats=True)\n",
       "        (conv2): Conv2d(512, 512, kernel_size=(3, 3), stride=(1, 1), padding=(4, 4), dilation=(4, 4), bias=False)\n",
       "        (bn2): BatchNorm2d(512, eps=1e-05, momentum=0.1, affine=True, track_running_stats=True)\n",
       "        (conv3): Conv2d(512, 2048, kernel_size=(1, 1), stride=(1, 1), bias=False)\n",
       "        (bn3): BatchNorm2d(2048, eps=1e-05, momentum=0.1, affine=True, track_running_stats=True)\n",
       "        (relu): ReLU(inplace)\n",
       "      )\n",
       "      (2): Bottleneck(\n",
       "        (conv1): Conv2d(2048, 512, kernel_size=(1, 1), stride=(1, 1), bias=False)\n",
       "        (bn1): BatchNorm2d(512, eps=1e-05, momentum=0.1, affine=True, track_running_stats=True)\n",
       "        (conv2): Conv2d(512, 512, kernel_size=(3, 3), stride=(1, 1), padding=(4, 4), dilation=(4, 4), bias=False)\n",
       "        (bn2): BatchNorm2d(512, eps=1e-05, momentum=0.1, affine=True, track_running_stats=True)\n",
       "        (conv3): Conv2d(512, 2048, kernel_size=(1, 1), stride=(1, 1), bias=False)\n",
       "        (bn3): BatchNorm2d(2048, eps=1e-05, momentum=0.1, affine=True, track_running_stats=True)\n",
       "        (relu): ReLU(inplace)\n",
       "      )\n",
       "    )\n",
       "  )\n",
       "  (classifier): DeepLabHead(\n",
       "    (0): ASPP(\n",
       "      (convs): ModuleList(\n",
       "        (0): Sequential(\n",
       "          (0): Conv2d(2048, 256, kernel_size=(1, 1), stride=(1, 1), bias=False)\n",
       "          (1): BatchNorm2d(256, eps=1e-05, momentum=0.1, affine=True, track_running_stats=True)\n",
       "          (2): ReLU()\n",
       "        )\n",
       "        (1): ASPPConv(\n",
       "          (0): Conv2d(2048, 256, kernel_size=(3, 3), stride=(1, 1), padding=(12, 12), dilation=(12, 12), bias=False)\n",
       "          (1): BatchNorm2d(256, eps=1e-05, momentum=0.1, affine=True, track_running_stats=True)\n",
       "          (2): ReLU()\n",
       "        )\n",
       "        (2): ASPPConv(\n",
       "          (0): Conv2d(2048, 256, kernel_size=(3, 3), stride=(1, 1), padding=(24, 24), dilation=(24, 24), bias=False)\n",
       "          (1): BatchNorm2d(256, eps=1e-05, momentum=0.1, affine=True, track_running_stats=True)\n",
       "          (2): ReLU()\n",
       "        )\n",
       "        (3): ASPPConv(\n",
       "          (0): Conv2d(2048, 256, kernel_size=(3, 3), stride=(1, 1), padding=(36, 36), dilation=(36, 36), bias=False)\n",
       "          (1): BatchNorm2d(256, eps=1e-05, momentum=0.1, affine=True, track_running_stats=True)\n",
       "          (2): ReLU()\n",
       "        )\n",
       "        (4): ASPPPooling(\n",
       "          (0): AdaptiveAvgPool2d(output_size=1)\n",
       "          (1): Conv2d(2048, 256, kernel_size=(1, 1), stride=(1, 1), bias=False)\n",
       "          (2): BatchNorm2d(256, eps=1e-05, momentum=0.1, affine=True, track_running_stats=True)\n",
       "          (3): ReLU()\n",
       "        )\n",
       "      )\n",
       "      (project): Sequential(\n",
       "        (0): Conv2d(1280, 256, kernel_size=(1, 1), stride=(1, 1), bias=False)\n",
       "        (1): BatchNorm2d(256, eps=1e-05, momentum=0.1, affine=True, track_running_stats=True)\n",
       "        (2): ReLU()\n",
       "        (3): Dropout(p=0.5)\n",
       "      )\n",
       "    )\n",
       "    (1): Conv2d(256, 256, kernel_size=(3, 3), stride=(1, 1), padding=(1, 1), bias=False)\n",
       "    (2): BatchNorm2d(256, eps=1e-05, momentum=0.1, affine=True, track_running_stats=True)\n",
       "    (3): ReLU()\n",
       "    (4): Conv2d(256, 21, kernel_size=(1, 1), stride=(1, 1))\n",
       "  )\n",
       "  (aux_classifier): FCNHead(\n",
       "    (0): Conv2d(1024, 256, kernel_size=(3, 3), stride=(1, 1), padding=(1, 1), bias=False)\n",
       "    (1): BatchNorm2d(256, eps=1e-05, momentum=0.1, affine=True, track_running_stats=True)\n",
       "    (2): ReLU()\n",
       "    (3): Dropout(p=0.1)\n",
       "    (4): Conv2d(256, 21, kernel_size=(1, 1), stride=(1, 1))\n",
       "  )\n",
       ")"
      ]
     },
     "execution_count": 7,
     "metadata": {},
     "output_type": "execute_result"
    }
   ],
   "source": [
    "model.eval()"
   ]
  },
  {
   "cell_type": "code",
   "execution_count": 9,
   "metadata": {},
   "outputs": [],
   "source": [
    "transform = transforms.Compose([\n",
    "    \n",
    "    transforms.ToTensor(),\n",
    "    transforms.Normalize(\n",
    "        mean = [0.485, 0.456, 0.406],\n",
    "        std = [0.229, 0.224, 0.225]\n",
    "    )\n",
    "])"
   ]
  },
  {
   "cell_type": "code",
   "execution_count": 10,
   "metadata": {},
   "outputs": [],
   "source": [
    "transformed_image = transform(image)"
   ]
  },
  {
   "cell_type": "code",
   "execution_count": 11,
   "metadata": {
    "scrolled": true
   },
   "outputs": [
    {
     "data": {
      "text/plain": [
       "tensor([[[-0.0629,  0.0569, -0.0116,  ...,  1.3927,  1.3755,  1.3413],\n",
       "         [ 0.0741,  0.1083, -0.0116,  ...,  1.4098,  1.3927,  1.3755],\n",
       "         [ 0.2282,  0.1426, -0.0116,  ...,  1.4098,  1.3927,  1.3927],\n",
       "         ...,\n",
       "         [ 0.8618,  0.4679, -0.1657,  ...,  0.0741, -0.0801, -0.1828],\n",
       "         [ 0.4679, -0.0801, -0.7479,  ...,  0.1426,  0.0398, -0.0287],\n",
       "         [ 0.3652,  0.8789, -0.8164,  ...,  0.1768,  0.1426,  0.1254]],\n",
       "\n",
       "        [[-0.3901, -0.2675, -0.3375,  ...,  0.7129,  0.6954,  0.6604],\n",
       "         [-0.2500, -0.2150, -0.3375,  ...,  0.7304,  0.7129,  0.6954],\n",
       "         [-0.0924, -0.1800, -0.3375,  ...,  0.7479,  0.7304,  0.7304],\n",
       "         ...,\n",
       "         [ 1.2206,  0.8179,  0.3452,  ..., -0.3375, -0.4951, -0.6176],\n",
       "         [ 0.8004,  0.2402, -0.2675,  ..., -0.2325, -0.3725, -0.4951],\n",
       "         [ 0.6604,  1.2731, -0.3550,  ..., -0.1975, -0.2675, -0.3200]],\n",
       "\n",
       "        [[-0.4275, -0.3055, -0.3753,  ...,  0.5834,  0.5659,  0.5311],\n",
       "         [-0.2881, -0.2532, -0.3753,  ...,  0.6008,  0.5834,  0.5659],\n",
       "         [-0.1312, -0.2184, -0.3753,  ...,  0.6182,  0.6008,  0.6008],\n",
       "         ...,\n",
       "         [-0.0615,  0.1651, -0.7064,  ..., -0.6193, -0.7587, -0.8284],\n",
       "         [-0.6541, -0.2358, -1.3861,  ..., -0.5321, -0.6541, -0.7413],\n",
       "         [-0.5321,  0.1476, -1.3687,  ..., -0.4973, -0.5844, -0.6367]]])"
      ]
     },
     "execution_count": 11,
     "metadata": {},
     "output_type": "execute_result"
    }
   ],
   "source": [
    "transformed_image"
   ]
  },
  {
   "cell_type": "code",
   "execution_count": 16,
   "metadata": {
    "scrolled": true
   },
   "outputs": [],
   "source": [
    "input_image = transformed_image.unsqueeze(0)"
   ]
  },
  {
   "cell_type": "code",
   "execution_count": 17,
   "metadata": {
    "scrolled": true
   },
   "outputs": [
    {
     "data": {
      "text/plain": [
       "tensor([[[[-0.0629,  0.0569, -0.0116,  ...,  1.3927,  1.3755,  1.3413],\n",
       "          [ 0.0741,  0.1083, -0.0116,  ...,  1.4098,  1.3927,  1.3755],\n",
       "          [ 0.2282,  0.1426, -0.0116,  ...,  1.4098,  1.3927,  1.3927],\n",
       "          ...,\n",
       "          [ 0.8618,  0.4679, -0.1657,  ...,  0.0741, -0.0801, -0.1828],\n",
       "          [ 0.4679, -0.0801, -0.7479,  ...,  0.1426,  0.0398, -0.0287],\n",
       "          [ 0.3652,  0.8789, -0.8164,  ...,  0.1768,  0.1426,  0.1254]],\n",
       "\n",
       "         [[-0.3901, -0.2675, -0.3375,  ...,  0.7129,  0.6954,  0.6604],\n",
       "          [-0.2500, -0.2150, -0.3375,  ...,  0.7304,  0.7129,  0.6954],\n",
       "          [-0.0924, -0.1800, -0.3375,  ...,  0.7479,  0.7304,  0.7304],\n",
       "          ...,\n",
       "          [ 1.2206,  0.8179,  0.3452,  ..., -0.3375, -0.4951, -0.6176],\n",
       "          [ 0.8004,  0.2402, -0.2675,  ..., -0.2325, -0.3725, -0.4951],\n",
       "          [ 0.6604,  1.2731, -0.3550,  ..., -0.1975, -0.2675, -0.3200]],\n",
       "\n",
       "         [[-0.4275, -0.3055, -0.3753,  ...,  0.5834,  0.5659,  0.5311],\n",
       "          [-0.2881, -0.2532, -0.3753,  ...,  0.6008,  0.5834,  0.5659],\n",
       "          [-0.1312, -0.2184, -0.3753,  ...,  0.6182,  0.6008,  0.6008],\n",
       "          ...,\n",
       "          [-0.0615,  0.1651, -0.7064,  ..., -0.6193, -0.7587, -0.8284],\n",
       "          [-0.6541, -0.2358, -1.3861,  ..., -0.5321, -0.6541, -0.7413],\n",
       "          [-0.5321,  0.1476, -1.3687,  ..., -0.4973, -0.5844, -0.6367]]]])"
      ]
     },
     "execution_count": 17,
     "metadata": {},
     "output_type": "execute_result"
    }
   ],
   "source": [
    "input_image"
   ]
  },
  {
   "cell_type": "code",
   "execution_count": 26,
   "metadata": {},
   "outputs": [],
   "source": [
    "prediction = model(input_image)"
   ]
  },
  {
   "cell_type": "code",
   "execution_count": 27,
   "metadata": {},
   "outputs": [
    {
     "data": {
      "text/plain": [
       "OrderedDict([('out',\n",
       "              tensor([[[[11.4497, 11.4497, 11.4497,  ..., 10.4799, 10.4799, 10.4799],\n",
       "                        [11.4497, 11.4497, 11.4497,  ..., 10.4799, 10.4799, 10.4799],\n",
       "                        [11.4497, 11.4497, 11.4497,  ..., 10.4799, 10.4799, 10.4799],\n",
       "                        ...,\n",
       "                        [11.1672, 11.1672, 11.1672,  ...,  7.9648,  7.9648,  7.9648],\n",
       "                        [11.1672, 11.1672, 11.1672,  ...,  7.9648,  7.9648,  7.9648],\n",
       "                        [11.1672, 11.1672, 11.1672,  ...,  7.9648,  7.9648,  7.9648]],\n",
       "              \n",
       "                       [[-1.2695, -1.2695, -1.2695,  ..., -0.7615, -0.7615, -0.7615],\n",
       "                        [-1.2695, -1.2695, -1.2695,  ..., -0.7615, -0.7615, -0.7615],\n",
       "                        [-1.2695, -1.2695, -1.2695,  ..., -0.7615, -0.7615, -0.7615],\n",
       "                        ...,\n",
       "                        [-1.7911, -1.7911, -1.7911,  ..., -1.9185, -1.9185, -1.9185],\n",
       "                        [-1.7911, -1.7911, -1.7911,  ..., -1.9185, -1.9185, -1.9185],\n",
       "                        [-1.7911, -1.7911, -1.7911,  ..., -1.9185, -1.9185, -1.9185]],\n",
       "              \n",
       "                       [[-1.7588, -1.7588, -1.7588,  ..., -1.2792, -1.2792, -1.2792],\n",
       "                        [-1.7588, -1.7588, -1.7588,  ..., -1.2792, -1.2792, -1.2792],\n",
       "                        [-1.7588, -1.7588, -1.7588,  ..., -1.2792, -1.2792, -1.2792],\n",
       "                        ...,\n",
       "                        [-1.3311, -1.3311, -1.3311,  ..., -0.9127, -0.9127, -0.9127],\n",
       "                        [-1.3311, -1.3311, -1.3311,  ..., -0.9127, -0.9127, -0.9127],\n",
       "                        [-1.3311, -1.3311, -1.3311,  ..., -0.9127, -0.9127, -0.9127]],\n",
       "              \n",
       "                       ...,\n",
       "              \n",
       "                       [[ 0.9239,  0.9239,  0.9239,  ..., -0.8148, -0.8148, -0.8148],\n",
       "                        [ 0.9239,  0.9239,  0.9239,  ..., -0.8148, -0.8148, -0.8148],\n",
       "                        [ 0.9239,  0.9239,  0.9239,  ..., -0.8148, -0.8148, -0.8148],\n",
       "                        ...,\n",
       "                        [ 0.6701,  0.6701,  0.6701,  ...,  0.9835,  0.9835,  0.9835],\n",
       "                        [ 0.6701,  0.6701,  0.6701,  ...,  0.9835,  0.9835,  0.9835],\n",
       "                        [ 0.6701,  0.6701,  0.6701,  ...,  0.9835,  0.9835,  0.9835]],\n",
       "              \n",
       "                       [[ 0.1922,  0.1922,  0.1922,  ...,  0.9921,  0.9921,  0.9921],\n",
       "                        [ 0.1922,  0.1922,  0.1922,  ...,  0.9921,  0.9921,  0.9921],\n",
       "                        [ 0.1922,  0.1922,  0.1922,  ...,  0.9921,  0.9921,  0.9921],\n",
       "                        ...,\n",
       "                        [-0.3552, -0.3552, -0.3552,  ..., -0.6996, -0.6996, -0.6996],\n",
       "                        [-0.3552, -0.3552, -0.3552,  ..., -0.6996, -0.6996, -0.6996],\n",
       "                        [-0.3552, -0.3552, -0.3552,  ..., -0.6996, -0.6996, -0.6996]],\n",
       "              \n",
       "                       [[ 0.1620,  0.1620,  0.1620,  ..., -0.2895, -0.2895, -0.2895],\n",
       "                        [ 0.1620,  0.1620,  0.1620,  ..., -0.2895, -0.2895, -0.2895],\n",
       "                        [ 0.1620,  0.1620,  0.1620,  ..., -0.2895, -0.2895, -0.2895],\n",
       "                        ...,\n",
       "                        [ 0.7644,  0.7644,  0.7644,  ..., -1.2737, -1.2737, -1.2737],\n",
       "                        [ 0.7644,  0.7644,  0.7644,  ..., -1.2737, -1.2737, -1.2737],\n",
       "                        [ 0.7644,  0.7644,  0.7644,  ..., -1.2737, -1.2737, -1.2737]]]],\n",
       "                     grad_fn=<UpsampleBilinear2DBackward>)),\n",
       "             ('aux',\n",
       "              tensor([[[[ 9.1270,  9.1270,  9.1270,  ...,  9.2059,  9.2059,  9.2059],\n",
       "                        [ 9.1270,  9.1270,  9.1270,  ...,  9.2059,  9.2059,  9.2059],\n",
       "                        [ 9.1270,  9.1270,  9.1270,  ...,  9.2059,  9.2059,  9.2059],\n",
       "                        ...,\n",
       "                        [ 9.4850,  9.4850,  9.4850,  ...,  5.6862,  5.6862,  5.6862],\n",
       "                        [ 9.4850,  9.4850,  9.4850,  ...,  5.6862,  5.6862,  5.6862],\n",
       "                        [ 9.4850,  9.4850,  9.4850,  ...,  5.6862,  5.6862,  5.6862]],\n",
       "              \n",
       "                       [[-0.1163, -0.1163, -0.1163,  ..., -0.9175, -0.9175, -0.9175],\n",
       "                        [-0.1163, -0.1163, -0.1163,  ..., -0.9175, -0.9175, -0.9175],\n",
       "                        [-0.1163, -0.1163, -0.1163,  ..., -0.9175, -0.9175, -0.9175],\n",
       "                        ...,\n",
       "                        [ 0.5772,  0.5772,  0.5772,  ..., -1.7448, -1.7448, -1.7448],\n",
       "                        [ 0.5772,  0.5772,  0.5772,  ..., -1.7448, -1.7448, -1.7448],\n",
       "                        [ 0.5772,  0.5772,  0.5772,  ..., -1.7448, -1.7448, -1.7448]],\n",
       "              \n",
       "                       [[-1.5649, -1.5649, -1.5649,  ..., -1.6418, -1.6418, -1.6418],\n",
       "                        [-1.5649, -1.5649, -1.5649,  ..., -1.6418, -1.6418, -1.6418],\n",
       "                        [-1.5649, -1.5649, -1.5649,  ..., -1.6418, -1.6418, -1.6418],\n",
       "                        ...,\n",
       "                        [-1.0618, -1.0618, -1.0618,  ..., -1.1985, -1.1985, -1.1985],\n",
       "                        [-1.0618, -1.0618, -1.0618,  ..., -1.1985, -1.1985, -1.1985],\n",
       "                        [-1.0618, -1.0618, -1.0618,  ..., -1.1985, -1.1985, -1.1985]],\n",
       "              \n",
       "                       ...,\n",
       "              \n",
       "                       [[ 0.6855,  0.6855,  0.6855,  ...,  0.1601,  0.1601,  0.1601],\n",
       "                        [ 0.6855,  0.6855,  0.6855,  ...,  0.1601,  0.1601,  0.1601],\n",
       "                        [ 0.6855,  0.6855,  0.6855,  ...,  0.1601,  0.1601,  0.1601],\n",
       "                        ...,\n",
       "                        [ 0.6252,  0.6252,  0.6252,  ...,  2.5419,  2.5419,  2.5419],\n",
       "                        [ 0.6252,  0.6252,  0.6252,  ...,  2.5419,  2.5419,  2.5419],\n",
       "                        [ 0.6252,  0.6252,  0.6252,  ...,  2.5419,  2.5419,  2.5419]],\n",
       "              \n",
       "                       [[ 0.9445,  0.9445,  0.9445,  ...,  0.6210,  0.6210,  0.6210],\n",
       "                        [ 0.9445,  0.9445,  0.9445,  ...,  0.6210,  0.6210,  0.6210],\n",
       "                        [ 0.9445,  0.9445,  0.9445,  ...,  0.6210,  0.6210,  0.6210],\n",
       "                        ...,\n",
       "                        [ 0.1354,  0.1354,  0.1354,  ..., -0.0545, -0.0545, -0.0545],\n",
       "                        [ 0.1354,  0.1354,  0.1354,  ..., -0.0545, -0.0545, -0.0545],\n",
       "                        [ 0.1354,  0.1354,  0.1354,  ..., -0.0545, -0.0545, -0.0545]],\n",
       "              \n",
       "                       [[-0.0848, -0.0848, -0.0848,  ...,  0.2928,  0.2928,  0.2928],\n",
       "                        [-0.0848, -0.0848, -0.0848,  ...,  0.2928,  0.2928,  0.2928],\n",
       "                        [-0.0848, -0.0848, -0.0848,  ...,  0.2928,  0.2928,  0.2928],\n",
       "                        ...,\n",
       "                        [-0.9465, -0.9465, -0.9465,  ..., -0.9394, -0.9394, -0.9394],\n",
       "                        [-0.9465, -0.9465, -0.9465,  ..., -0.9394, -0.9394, -0.9394],\n",
       "                        [-0.9465, -0.9465, -0.9465,  ..., -0.9394, -0.9394, -0.9394]]]],\n",
       "                     grad_fn=<UpsampleBilinear2DBackward>))])"
      ]
     },
     "execution_count": 27,
     "metadata": {},
     "output_type": "execute_result"
    }
   ],
   "source": [
    "prediction"
   ]
  },
  {
   "cell_type": "code",
   "execution_count": 28,
   "metadata": {
    "scrolled": true
   },
   "outputs": [
    {
     "data": {
      "text/plain": [
       "tensor([[[[11.4497, 11.4497, 11.4497,  ..., 10.4799, 10.4799, 10.4799],\n",
       "          [11.4497, 11.4497, 11.4497,  ..., 10.4799, 10.4799, 10.4799],\n",
       "          [11.4497, 11.4497, 11.4497,  ..., 10.4799, 10.4799, 10.4799],\n",
       "          ...,\n",
       "          [11.1672, 11.1672, 11.1672,  ...,  7.9648,  7.9648,  7.9648],\n",
       "          [11.1672, 11.1672, 11.1672,  ...,  7.9648,  7.9648,  7.9648],\n",
       "          [11.1672, 11.1672, 11.1672,  ...,  7.9648,  7.9648,  7.9648]],\n",
       "\n",
       "         [[-1.2695, -1.2695, -1.2695,  ..., -0.7615, -0.7615, -0.7615],\n",
       "          [-1.2695, -1.2695, -1.2695,  ..., -0.7615, -0.7615, -0.7615],\n",
       "          [-1.2695, -1.2695, -1.2695,  ..., -0.7615, -0.7615, -0.7615],\n",
       "          ...,\n",
       "          [-1.7911, -1.7911, -1.7911,  ..., -1.9185, -1.9185, -1.9185],\n",
       "          [-1.7911, -1.7911, -1.7911,  ..., -1.9185, -1.9185, -1.9185],\n",
       "          [-1.7911, -1.7911, -1.7911,  ..., -1.9185, -1.9185, -1.9185]],\n",
       "\n",
       "         [[-1.7588, -1.7588, -1.7588,  ..., -1.2792, -1.2792, -1.2792],\n",
       "          [-1.7588, -1.7588, -1.7588,  ..., -1.2792, -1.2792, -1.2792],\n",
       "          [-1.7588, -1.7588, -1.7588,  ..., -1.2792, -1.2792, -1.2792],\n",
       "          ...,\n",
       "          [-1.3311, -1.3311, -1.3311,  ..., -0.9127, -0.9127, -0.9127],\n",
       "          [-1.3311, -1.3311, -1.3311,  ..., -0.9127, -0.9127, -0.9127],\n",
       "          [-1.3311, -1.3311, -1.3311,  ..., -0.9127, -0.9127, -0.9127]],\n",
       "\n",
       "         ...,\n",
       "\n",
       "         [[ 0.9239,  0.9239,  0.9239,  ..., -0.8148, -0.8148, -0.8148],\n",
       "          [ 0.9239,  0.9239,  0.9239,  ..., -0.8148, -0.8148, -0.8148],\n",
       "          [ 0.9239,  0.9239,  0.9239,  ..., -0.8148, -0.8148, -0.8148],\n",
       "          ...,\n",
       "          [ 0.6701,  0.6701,  0.6701,  ...,  0.9835,  0.9835,  0.9835],\n",
       "          [ 0.6701,  0.6701,  0.6701,  ...,  0.9835,  0.9835,  0.9835],\n",
       "          [ 0.6701,  0.6701,  0.6701,  ...,  0.9835,  0.9835,  0.9835]],\n",
       "\n",
       "         [[ 0.1922,  0.1922,  0.1922,  ...,  0.9921,  0.9921,  0.9921],\n",
       "          [ 0.1922,  0.1922,  0.1922,  ...,  0.9921,  0.9921,  0.9921],\n",
       "          [ 0.1922,  0.1922,  0.1922,  ...,  0.9921,  0.9921,  0.9921],\n",
       "          ...,\n",
       "          [-0.3552, -0.3552, -0.3552,  ..., -0.6996, -0.6996, -0.6996],\n",
       "          [-0.3552, -0.3552, -0.3552,  ..., -0.6996, -0.6996, -0.6996],\n",
       "          [-0.3552, -0.3552, -0.3552,  ..., -0.6996, -0.6996, -0.6996]],\n",
       "\n",
       "         [[ 0.1620,  0.1620,  0.1620,  ..., -0.2895, -0.2895, -0.2895],\n",
       "          [ 0.1620,  0.1620,  0.1620,  ..., -0.2895, -0.2895, -0.2895],\n",
       "          [ 0.1620,  0.1620,  0.1620,  ..., -0.2895, -0.2895, -0.2895],\n",
       "          ...,\n",
       "          [ 0.7644,  0.7644,  0.7644,  ..., -1.2737, -1.2737, -1.2737],\n",
       "          [ 0.7644,  0.7644,  0.7644,  ..., -1.2737, -1.2737, -1.2737],\n",
       "          [ 0.7644,  0.7644,  0.7644,  ..., -1.2737, -1.2737, -1.2737]]]],\n",
       "       grad_fn=<UpsampleBilinear2DBackward>)"
      ]
     },
     "execution_count": 28,
     "metadata": {},
     "output_type": "execute_result"
    }
   ],
   "source": [
    "prediction['out']"
   ]
  },
  {
   "cell_type": "code",
   "execution_count": 32,
   "metadata": {},
   "outputs": [],
   "source": [
    "output = prediction['out']"
   ]
  },
  {
   "cell_type": "code",
   "execution_count": 33,
   "metadata": {
    "scrolled": true
   },
   "outputs": [
    {
     "data": {
      "text/plain": [
       "tensor([[[[11.4497, 11.4497, 11.4497,  ..., 10.4799, 10.4799, 10.4799],\n",
       "          [11.4497, 11.4497, 11.4497,  ..., 10.4799, 10.4799, 10.4799],\n",
       "          [11.4497, 11.4497, 11.4497,  ..., 10.4799, 10.4799, 10.4799],\n",
       "          ...,\n",
       "          [11.1672, 11.1672, 11.1672,  ...,  7.9648,  7.9648,  7.9648],\n",
       "          [11.1672, 11.1672, 11.1672,  ...,  7.9648,  7.9648,  7.9648],\n",
       "          [11.1672, 11.1672, 11.1672,  ...,  7.9648,  7.9648,  7.9648]],\n",
       "\n",
       "         [[-1.2695, -1.2695, -1.2695,  ..., -0.7615, -0.7615, -0.7615],\n",
       "          [-1.2695, -1.2695, -1.2695,  ..., -0.7615, -0.7615, -0.7615],\n",
       "          [-1.2695, -1.2695, -1.2695,  ..., -0.7615, -0.7615, -0.7615],\n",
       "          ...,\n",
       "          [-1.7911, -1.7911, -1.7911,  ..., -1.9185, -1.9185, -1.9185],\n",
       "          [-1.7911, -1.7911, -1.7911,  ..., -1.9185, -1.9185, -1.9185],\n",
       "          [-1.7911, -1.7911, -1.7911,  ..., -1.9185, -1.9185, -1.9185]],\n",
       "\n",
       "         [[-1.7588, -1.7588, -1.7588,  ..., -1.2792, -1.2792, -1.2792],\n",
       "          [-1.7588, -1.7588, -1.7588,  ..., -1.2792, -1.2792, -1.2792],\n",
       "          [-1.7588, -1.7588, -1.7588,  ..., -1.2792, -1.2792, -1.2792],\n",
       "          ...,\n",
       "          [-1.3311, -1.3311, -1.3311,  ..., -0.9127, -0.9127, -0.9127],\n",
       "          [-1.3311, -1.3311, -1.3311,  ..., -0.9127, -0.9127, -0.9127],\n",
       "          [-1.3311, -1.3311, -1.3311,  ..., -0.9127, -0.9127, -0.9127]],\n",
       "\n",
       "         ...,\n",
       "\n",
       "         [[ 0.9239,  0.9239,  0.9239,  ..., -0.8148, -0.8148, -0.8148],\n",
       "          [ 0.9239,  0.9239,  0.9239,  ..., -0.8148, -0.8148, -0.8148],\n",
       "          [ 0.9239,  0.9239,  0.9239,  ..., -0.8148, -0.8148, -0.8148],\n",
       "          ...,\n",
       "          [ 0.6701,  0.6701,  0.6701,  ...,  0.9835,  0.9835,  0.9835],\n",
       "          [ 0.6701,  0.6701,  0.6701,  ...,  0.9835,  0.9835,  0.9835],\n",
       "          [ 0.6701,  0.6701,  0.6701,  ...,  0.9835,  0.9835,  0.9835]],\n",
       "\n",
       "         [[ 0.1922,  0.1922,  0.1922,  ...,  0.9921,  0.9921,  0.9921],\n",
       "          [ 0.1922,  0.1922,  0.1922,  ...,  0.9921,  0.9921,  0.9921],\n",
       "          [ 0.1922,  0.1922,  0.1922,  ...,  0.9921,  0.9921,  0.9921],\n",
       "          ...,\n",
       "          [-0.3552, -0.3552, -0.3552,  ..., -0.6996, -0.6996, -0.6996],\n",
       "          [-0.3552, -0.3552, -0.3552,  ..., -0.6996, -0.6996, -0.6996],\n",
       "          [-0.3552, -0.3552, -0.3552,  ..., -0.6996, -0.6996, -0.6996]],\n",
       "\n",
       "         [[ 0.1620,  0.1620,  0.1620,  ..., -0.2895, -0.2895, -0.2895],\n",
       "          [ 0.1620,  0.1620,  0.1620,  ..., -0.2895, -0.2895, -0.2895],\n",
       "          [ 0.1620,  0.1620,  0.1620,  ..., -0.2895, -0.2895, -0.2895],\n",
       "          ...,\n",
       "          [ 0.7644,  0.7644,  0.7644,  ..., -1.2737, -1.2737, -1.2737],\n",
       "          [ 0.7644,  0.7644,  0.7644,  ..., -1.2737, -1.2737, -1.2737],\n",
       "          [ 0.7644,  0.7644,  0.7644,  ..., -1.2737, -1.2737, -1.2737]]]],\n",
       "       grad_fn=<UpsampleBilinear2DBackward>)"
      ]
     },
     "execution_count": 33,
     "metadata": {},
     "output_type": "execute_result"
    }
   ],
   "source": [
    "output"
   ]
  },
  {
   "cell_type": "code",
   "execution_count": 34,
   "metadata": {},
   "outputs": [
    {
     "data": {
      "text/plain": [
       "torch.Size([1, 21, 333, 500])"
      ]
     },
     "execution_count": 34,
     "metadata": {},
     "output_type": "execute_result"
    }
   ],
   "source": [
    "output.shape"
   ]
  },
  {
   "cell_type": "code",
   "execution_count": 78,
   "metadata": {},
   "outputs": [],
   "source": [
    "op = torch.argmax(output.squeeze(), dim = 0).detach().numpy()"
   ]
  },
  {
   "cell_type": "code",
   "execution_count": 79,
   "metadata": {
    "scrolled": true
   },
   "outputs": [
    {
     "data": {
      "text/plain": [
       "array([[0, 0, 0, ..., 0, 0, 0],\n",
       "       [0, 0, 0, ..., 0, 0, 0],\n",
       "       [0, 0, 0, ..., 0, 0, 0],\n",
       "       ...,\n",
       "       [0, 0, 0, ..., 0, 0, 0],\n",
       "       [0, 0, 0, ..., 0, 0, 0],\n",
       "       [0, 0, 0, ..., 0, 0, 0]])"
      ]
     },
     "execution_count": 79,
     "metadata": {},
     "output_type": "execute_result"
    }
   ],
   "source": [
    "op"
   ]
  },
  {
   "cell_type": "code",
   "execution_count": 73,
   "metadata": {},
   "outputs": [
    {
     "data": {
      "text/plain": [
       "(21, 333, 500)"
      ]
     },
     "execution_count": 73,
     "metadata": {},
     "output_type": "execute_result"
    }
   ],
   "source": [
    "op.shape"
   ]
  },
  {
   "cell_type": "code",
   "execution_count": 44,
   "metadata": {},
   "outputs": [
    {
     "data": {
      "text/plain": [
       "array([ 0, 13, 15])"
      ]
     },
     "execution_count": 44,
     "metadata": {},
     "output_type": "execute_result"
    }
   ],
   "source": [
    "import numpy as np\n",
    "np.unique(op)"
   ]
  },
  {
   "cell_type": "code",
   "execution_count": 45,
   "metadata": {},
   "outputs": [],
   "source": [
    "label_colors = [(0, 0, 0),\n",
    "               (128, 0, 0), (0, 128, 0), (128, 128, 0), (0, 0, 128), (128, 0, 128),\n",
    "               (0, 128, 128), (128, 128, 128), (64, 0, 0), (192, 0, 0), (64, 128, 0),\n",
    "               (192, 128, 0), (64, 0, 128), (192, 0, 128), (64, 128, 128), (192, 128, 128),\n",
    "               (0, 64, 0), (128, 64, 0), (0, 192, 0), (128, 192, 0), (0, 64, 128)]"
   ]
  },
  {
   "cell_type": "code",
   "execution_count": 50,
   "metadata": {},
   "outputs": [],
   "source": [
    "r = np.zeros_like(op).astype(np.uint8)\n",
    "g = np.zeros_like(op).astype(np.uint8)\n",
    "b = np.zeros_like(op).astype(np.uint8)"
   ]
  },
  {
   "cell_type": "code",
   "execution_count": 51,
   "metadata": {},
   "outputs": [
    {
     "data": {
      "text/plain": [
       "(333, 500)"
      ]
     },
     "execution_count": 51,
     "metadata": {},
     "output_type": "execute_result"
    }
   ],
   "source": [
    "r.shape"
   ]
  },
  {
   "cell_type": "code",
   "execution_count": 52,
   "metadata": {},
   "outputs": [
    {
     "data": {
      "text/plain": [
       "(333, 500)"
      ]
     },
     "execution_count": 52,
     "metadata": {},
     "output_type": "execute_result"
    }
   ],
   "source": [
    "g.shape"
   ]
  },
  {
   "cell_type": "code",
   "execution_count": 53,
   "metadata": {},
   "outputs": [
    {
     "data": {
      "text/plain": [
       "(333, 500)"
      ]
     },
     "execution_count": 53,
     "metadata": {},
     "output_type": "execute_result"
    }
   ],
   "source": [
    "b.shape"
   ]
  },
  {
   "cell_type": "code",
   "execution_count": 56,
   "metadata": {},
   "outputs": [
    {
     "data": {
      "text/plain": [
       "array([[ True,  True,  True, ...,  True,  True,  True],\n",
       "       [ True,  True,  True, ...,  True,  True,  True],\n",
       "       [ True,  True,  True, ...,  True,  True,  True],\n",
       "       ...,\n",
       "       [ True,  True,  True, ...,  True,  True,  True],\n",
       "       [ True,  True,  True, ...,  True,  True,  True],\n",
       "       [ True,  True,  True, ...,  True,  True,  True]])"
      ]
     },
     "execution_count": 56,
     "metadata": {},
     "output_type": "execute_result"
    }
   ],
   "source": [
    "op == 0"
   ]
  },
  {
   "cell_type": "code",
   "execution_count": 59,
   "metadata": {},
   "outputs": [],
   "source": [
    "for i in range(len(label_colors)):\n",
    "    index = op == i\n",
    "    r[index] = label_colors[i][0]\n",
    "    g[index] = label_colors[i][1]\n",
    "    b[index] = label_colors[i][2]"
   ]
  },
  {
   "cell_type": "code",
   "execution_count": 60,
   "metadata": {},
   "outputs": [],
   "source": [
    "ss_image = np.stack([r, g, b], axis = 2)"
   ]
  },
  {
   "cell_type": "code",
   "execution_count": 65,
   "metadata": {},
   "outputs": [
    {
     "data": {
      "text/plain": [
       "<matplotlib.image.AxesImage at 0x7fb07a749d68>"
      ]
     },
     "execution_count": 65,
     "metadata": {},
     "output_type": "execute_result"
    },
    {
     "data": {
      "image/png": "[encoded data removed]",
      "text/plain": [
       "<Figure size 3600x3600 with 1 Axes>"
      ]
     },
     "metadata": {
      "needs_background": "light"
     },
     "output_type": "display_data"
    }
   ],
   "source": [
    "import matplotlib.pyplot as plt\n",
    "plt.figure(figsize = (50,50))\n",
    "plt.imshow(ss_image)"
   ]
  },
  {
   "cell_type": "code",
   "execution_count": 63,
   "metadata": {},
   "outputs": [],
   "source": []
  },
  {
   "cell_type": "code",
   "execution_count": 64,
   "metadata": {},
   "outputs": [],
   "source": []
  },
  {
   "cell_type": "code",
   "execution_count": null,
   "metadata": {},
   "outputs": [],
   "source": []
  }
 ],
 "metadata": {
  "kernelspec": {
   "display_name": "Python 3",
   "language": "python",
   "name": "python3"
  },
  "language_info": {
   "codemirror_mode": {
    "name": "ipython",
    "version": 3
   },
   "file_extension": ".py",
   "mimetype": "text/x-python",
   "name": "python",
   "nbconvert_exporter": "python",
   "pygments_lexer": "ipython3",
   "version": "3.7.1"
  }
 },
 "nbformat": 4,
 "nbformat_minor": 2
}
